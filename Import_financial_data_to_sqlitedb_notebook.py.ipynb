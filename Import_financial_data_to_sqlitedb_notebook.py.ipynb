{
 "cells": [
  {
   "cell_type": "markdown",
   "metadata": {},
   "source": [
    "## Create a database"
   ]
  },
  {
   "cell_type": "code",
   "execution_count": 2,
   "metadata": {},
   "outputs": [],
   "source": [
    "import sqlite3\n",
    "conn = sqlite3.connect('Portfolio_dividens.db')\n",
    "c = conn.cursor()\n",
    "\n",
    "from sqlalchemy import create_engine #suport pd.dataframe to sql table\n",
    "#import mysqlclient\n",
    "\n",
    "engine = create_engine(\"sqlite:///Portfolio_dividens.db\")"
   ]
  },
  {
   "cell_type": "markdown",
   "metadata": {},
   "source": [
    "## Set up path"
   ]
  },
  {
   "cell_type": "code",
   "execution_count": 3,
   "metadata": {},
   "outputs": [],
   "source": [
    "import os\n",
    "# detect the current working directory and print it\n",
    "path = os.getcwd()\n"
   ]
  },
  {
   "cell_type": "markdown",
   "metadata": {},
   "source": [
    "## Set up API "
   ]
  },
  {
   "cell_type": "code",
   "execution_count": 4,
   "metadata": {},
   "outputs": [],
   "source": [
    "''' Yahoo finance'''\n",
    "import pandas as pd\n",
    "from pandas_datareader import data as wb\n",
    "import datetime as dt\n",
    "\n",
    "date_today=dt.date.today() # today's Date\n",
    "\n",
    "start_1='2005-1-1' # Select Start Date\n",
    "\n",
    "tickers_df=pd.read_excel(path+r'\\Dividends.xlsx') ## Import Tickers, example Apple= APPL\n",
    "\n",
    "\n",
    "tickers=list(tickers_df['Ticker']) #Configure\n",
    "tablenames=list(tickers_df['tablenames'])"
   ]
  },
  {
   "cell_type": "code",
   "execution_count": 9,
   "metadata": {},
   "outputs": [
    {
     "name": "stdout",
     "output_type": "stream",
     "text": [
      "                Aktien Ticker Ticker_tablenames tablenames\n",
      "0                   3M    MMM               MMM        mmm\n",
      "1  Abbott Laboratories    ABT               ABT        abt\n"
     ]
    }
   ],
   "source": [
    "print(tickers_df[:2])"
   ]
  },
  {
   "cell_type": "markdown",
   "metadata": {},
   "source": [
    "## Import and update stock data\n"
   ]
  },
  {
   "cell_type": "code",
   "execution_count": null,
   "metadata": {},
   "outputs": [],
   "source": [
    "from sqlalchemy import inspect\n",
    "\n",
    "inspector = inspect(engine)\n",
    "\n",
    "# Get table information\n",
    "inspect_tables=inspector.get_table_names()\n",
    "\n",
    "\n",
    "Select_last_value= \"Select Date from '{}' order by date desc limit 1;\"\n",
    "\n",
    "Check_table_exists=\"SHOW TABLES LIKE {}\"\n",
    "\n",
    "\n",
    "if len(inspect_tables)==0: #first initialize db, if none exists, create new\n",
    "    \n",
    "    for k, t in enumerate(tickers):\n",
    "    \n",
    "        ticker_data=pd.DataFrame() #create temporary dataframe\n",
    "        try:\n",
    "            ticker_data=wb.DataReader(t, data_source='yahoo',start=start_1)\n",
    "            ticker_data.to_sql(tablenames[k],con=engine,if_exists=\"replace\" )\n",
    "        \n",
    "        except:\n",
    "            print(\"New Import from {} went wrong\".format(t))\n",
    "        else:\n",
    "            print(\"New Import from {} is done\".format(t))\n",
    "            \n",
    "else: #if exists, update it\n",
    "    \n",
    "    for k, t in enumerate(tickers):\n",
    "                \n",
    "        if tablenames[k] not in inspect_tables: #check table is existing, if not create new table\n",
    "            ticker_data=pd.DataFrame()\n",
    "            try:\n",
    "                ticker_data=wb.DataReader(t, data_source='yahoo',start=start_1)\n",
    "                ticker_data.to_sql(tablenames[k],con=engine,if_exists=\"replace\" )\n",
    "            \n",
    "            except:\n",
    "                print(\"New Import from {} went wrong\".format(t))\n",
    "            else:\n",
    "                print(\"New Import from {} is done\".format(t))\n",
    "                \n",
    "         \n",
    "        else:   #stock for table is existing, update it\n",
    "            \n",
    "        \n",
    "            ticker_data=pd.DataFrame()\n",
    "            \n",
    "            check_last_value=pd.read_sql_query(Select_last_value.format(tablenames[k]),con=engine)\n",
    "            check_last_value2=(pd.to_datetime(check_last_value['Date'][0],format=\"%Y-%m-%d\")).date()\n",
    "            \n",
    "            if check_last_value2!=date_today: #dt.datetime.strptime(\"2019-11-13\", \"%Y-%m-%d\")==pd.to_datetime(check_last_value['Date'][0])\n",
    "                \n",
    "                try:\n",
    "                    ticker_data=wb.DataReader(t, data_source='yahoo',start=check_last_value2+dt.timedelta(days=1))\n",
    "                    ticker_data.to_sql(tablenames[k],con=engine,if_exists=\"append\")\n",
    "                \n",
    "                except:\n",
    "                    print(\"Update Import from {} went wrong\".format(t))\n",
    "                else:\n",
    "                    print(\"Update Import from {} is done from {}\".format(t,str(check_last_value2+dt.timedelta(days=1))))\n",
    "                    "
   ]
  }
 ],
 "metadata": {
  "kernelspec": {
   "display_name": "Python 3",
   "language": "python",
   "name": "python3"
  },
  "language_info": {
   "codemirror_mode": {
    "name": "ipython",
    "version": 3
   },
   "file_extension": ".py",
   "mimetype": "text/x-python",
   "name": "python",
   "nbconvert_exporter": "python",
   "pygments_lexer": "ipython3",
   "version": "3.7.3"
  }
 },
 "nbformat": 4,
 "nbformat_minor": 2
}
